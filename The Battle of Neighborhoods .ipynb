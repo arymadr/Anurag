{
 "cells": [
  {
   "cell_type": "markdown",
   "metadata": {},
   "source": [
    "# Question 1"
   ]
  },
  {
   "cell_type": "markdown",
   "metadata": {},
   "source": [
    "## Place for opening new GYM in Mumbai\n",
    "Now Days fitnees is very popular in people espacilly in youths.GYM is the method to get fitted. so, opening new Gym in sach a Neighbourhood where population of youth is quite large and no other Gym is functing, will be very profitable.In business prospect, marking those places is very 1st step in the market."
   ]
  },
  {
   "cell_type": "markdown",
   "metadata": {},
   "source": [
    "# Question 2"
   ]
  },
  {
   "cell_type": "markdown",
   "metadata": {},
   "source": [
    "I am using neighbourhood data of whole mumbai and Foursquare data. The sourse of neighbour data is wekipidia and it will be used as marking of segmented areas of Mumbai. Foursquare data will be used as the marking location of smaller items(as compared to segmented area) such as shop, school etc. to get the places where people visit more and there is gym facilites."
   ]
  },
  {
   "cell_type": "code",
   "execution_count": null,
   "metadata": {},
   "outputs": [],
   "source": []
  }
 ],
 "metadata": {
  "kernelspec": {
   "display_name": "Python 3",
   "language": "python",
   "name": "python3"
  },
  "language_info": {
   "codemirror_mode": {
    "name": "ipython",
    "version": 3
   },
   "file_extension": ".py",
   "mimetype": "text/x-python",
   "name": "python",
   "nbconvert_exporter": "python",
   "pygments_lexer": "ipython3",
   "version": "3.7.6"
  }
 },
 "nbformat": 4,
 "nbformat_minor": 4
}
